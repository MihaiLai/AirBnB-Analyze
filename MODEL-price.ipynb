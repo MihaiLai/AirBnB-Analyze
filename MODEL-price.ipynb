{
 "cells": [
  {
   "cell_type": "code",
   "execution_count": 1,
   "metadata": {},
   "outputs": [],
   "source": [
    "import pandas as pd\n",
    "import numpy as np\n",
    "import matplotlib.pyplot as plt\n",
    "from sklearn.model_selection import train_test_split\n",
    "from sklearn.metrics import r2_score, mean_squared_error\n",
    "from sklearn.linear_model import LinearRegression"
   ]
  },
  {
   "cell_type": "code",
   "execution_count": 2,
   "metadata": {},
   "outputs": [],
   "source": [
    "boston_list = pd.read_csv('./boston/listings.csv')"
   ]
  },
  {
   "cell_type": "markdown",
   "metadata": {},
   "source": [
    "# process data"
   ]
  },
  {
   "cell_type": "code",
   "execution_count": 195,
   "metadata": {},
   "outputs": [],
   "source": [
    "choose_list = ['host_response_time','host_response_rate','host_acceptance_rate','host_is_superhost','host_listings_count', 'host_total_listings_count',\n",
    "'host_has_profile_pic','host_identity_verified', 'zipcode','property_type','room_type','accommodates','bathrooms','bedrooms','beds','bed_type',\n",
    "'minimum_nights','maximum_nights','instant_bookable','cancellation_policy','price']"
   ]
  },
  {
   "cell_type": "code",
   "execution_count": 4,
   "metadata": {},
   "outputs": [],
   "source": [
    "boston_list['price'] = boston_list['price'].apply(lambda x : float(x.replace('$','').replace(',','')))"
   ]
  },
  {
   "cell_type": "code",
   "execution_count": 5,
   "metadata": {},
   "outputs": [],
   "source": [
    "boston_list['host_acceptance_rate'] = boston_list['host_acceptance_rate'].astype('str')\n",
    "boston_list['host_acceptance_rate'] = boston_list['host_acceptance_rate'].apply(lambda x : x.replace(\"%\", ''))\n",
    "boston_list['host_acceptance_rate'] = boston_list['host_acceptance_rate'].astype('float')\n",
    "\n"
   ]
  },
  {
   "cell_type": "code",
   "execution_count": 123,
   "metadata": {},
   "outputs": [],
   "source": [
    "boston_list['host_response_rate'] = boston_list['host_response_rate'].astype('str')\n",
    "boston_list['host_response_rate'] = boston_list['host_response_rate'].apply(lambda x : x.replace(\"%\", ''))\n",
    "boston_list['host_response_rate'] = boston_list['host_response_rate'].astype('float')"
   ]
  },
  {
   "cell_type": "code",
   "execution_count": 167,
   "metadata": {
    "scrolled": true
   },
   "outputs": [],
   "source": [
    "def processData(data,drop=True):\n",
    "    \"\"\"drop null or fill mean\n",
    "\n",
    "    Keyword arguments:\n",
    "    data -- the data that need to be processed\n",
    "    drop -- If it equals True drop rows that contain NAN value,if false fill NAN value with mean value  (default True)\n",
    "    \"\"\"\n",
    "    num_vars = data.select_dtypes(include=['float', 'int64', 'float64','uint8']).columns\n",
    "    data = data[num_vars]\n",
    "    if drop:\n",
    "        data.dropna(inplace=True)\n",
    "    else:\n",
    "        for var in num_vars:\n",
    "            data[var].fillna(data[var].mean(),inplace=True)\n",
    "    return data"
   ]
  },
  {
   "cell_type": "code",
   "execution_count": 117,
   "metadata": {},
   "outputs": [],
   "source": [
    "\n",
    "def addStr(data, columns):\n",
    "    \"\"\"add categories feature\n",
    "    Keyword arguments:\n",
    "    data - basic data\n",
    "    columns - column's name that need to transform into one hot and add to basic data\n",
    "    \"\"\"\n",
    "    data = pd.concat([data.drop(columns, axis=1), pd.get_dummies(data[columns], prefix=columns, prefix_sep='_', drop_first=True)], axis=1)\n",
    "    return data"
   ]
  },
  {
   "cell_type": "markdown",
   "metadata": {},
   "source": [
    "## model"
   ]
  },
  {
   "cell_type": "code",
   "execution_count": 191,
   "metadata": {},
   "outputs": [
    {
     "name": "stderr",
     "output_type": "stream",
     "text": [
      "C:\\ProgramData\\Anaconda3\\lib\\site-packages\\ipykernel_launcher.py:2: SettingWithCopyWarning: \n",
      "A value is trying to be set on a copy of a slice from a DataFrame\n",
      "\n",
      "See the caveats in the documentation: http://pandas.pydata.org/pandas-docs/stable/indexing.html#indexing-view-versus-copy\n",
      "  \n",
      "C:\\ProgramData\\Anaconda3\\lib\\site-packages\\ipykernel_launcher.py:5: SettingWithCopyWarning: \n",
      "A value is trying to be set on a copy of a slice from a DataFrame\n",
      "\n",
      "See the caveats in the documentation: http://pandas.pydata.org/pandas-docs/stable/indexing.html#indexing-view-versus-copy\n",
      "  \"\"\"\n"
     ]
    }
   ],
   "source": [
    "X_pred = boston_list[choose_list]\n",
    "#X_pred.drop(['host_listings_count', 'host_total_listings_count'],axis=1,inplace=True)\n",
    "X_pred = addStr(X_pred,'cancellation_policy')\n",
    "X_pred = addStr(X_pred,'bed_type')\n",
    "X_pred = addStr(X_pred,'instant_bookable')\n",
    "X_pred = processData(X_pred,drop=True)\n",
    "X = X_pred.drop('price',axis=1)\n",
    "y= X_pred['price']"
   ]
  },
  {
   "cell_type": "code",
   "execution_count": 194,
   "metadata": {},
   "outputs": [
    {
     "name": "stdout",
     "output_type": "stream",
     "text": [
      "0.45552955440554\n"
     ]
    }
   ],
   "source": [
    "# train model and get score\n",
    "X_train, X_test, y_train, y_test = train_test_split(X, y, test_size=0.3, random_state=24)\n",
    "lm_model = LinearRegression(normalize=True)\n",
    "lm_model.fit(X_train,y_train)\n",
    "y_test_preds = lm_model.predict(X_test)\n",
    "test_score = r2_score(y_test, y_test_preds)"
   ]
  },
  {
   "cell_type": "code",
   "execution_count": 166,
   "metadata": {
    "scrolled": false
   },
   "outputs": [
    {
     "data": {
      "text/html": [
       "<div>\n",
       "<style scoped>\n",
       "    .dataframe tbody tr th:only-of-type {\n",
       "        vertical-align: middle;\n",
       "    }\n",
       "\n",
       "    .dataframe tbody tr th {\n",
       "        vertical-align: top;\n",
       "    }\n",
       "\n",
       "    .dataframe thead th {\n",
       "        text-align: right;\n",
       "    }\n",
       "</style>\n",
       "<table border=\"1\" class=\"dataframe\">\n",
       "  <thead>\n",
       "    <tr style=\"text-align: right;\">\n",
       "      <th></th>\n",
       "      <th>est_int</th>\n",
       "      <th>coefs</th>\n",
       "      <th>abs_coefs</th>\n",
       "    </tr>\n",
       "  </thead>\n",
       "  <tbody>\n",
       "    <tr>\n",
       "      <th>12</th>\n",
       "      <td>cancellation_policy_super_strict_30</td>\n",
       "      <td>1.596933e+02</td>\n",
       "      <td>1.596933e+02</td>\n",
       "    </tr>\n",
       "    <tr>\n",
       "      <th>16</th>\n",
       "      <td>bed_type_Real Bed</td>\n",
       "      <td>3.667953e+01</td>\n",
       "      <td>3.667953e+01</td>\n",
       "    </tr>\n",
       "    <tr>\n",
       "      <th>13</th>\n",
       "      <td>bed_type_Couch</td>\n",
       "      <td>3.343300e+01</td>\n",
       "      <td>3.343300e+01</td>\n",
       "    </tr>\n",
       "    <tr>\n",
       "      <th>4</th>\n",
       "      <td>accommodates</td>\n",
       "      <td>2.463599e+01</td>\n",
       "      <td>2.463599e+01</td>\n",
       "    </tr>\n",
       "    <tr>\n",
       "      <th>6</th>\n",
       "      <td>bedrooms</td>\n",
       "      <td>1.911241e+01</td>\n",
       "      <td>1.911241e+01</td>\n",
       "    </tr>\n",
       "    <tr>\n",
       "      <th>5</th>\n",
       "      <td>bathrooms</td>\n",
       "      <td>1.899179e+01</td>\n",
       "      <td>1.899179e+01</td>\n",
       "    </tr>\n",
       "    <tr>\n",
       "      <th>17</th>\n",
       "      <td>instant_bookable_t</td>\n",
       "      <td>-1.836411e+01</td>\n",
       "      <td>1.836411e+01</td>\n",
       "    </tr>\n",
       "    <tr>\n",
       "      <th>14</th>\n",
       "      <td>bed_type_Futon</td>\n",
       "      <td>-1.301845e+01</td>\n",
       "      <td>1.301845e+01</td>\n",
       "    </tr>\n",
       "    <tr>\n",
       "      <th>11</th>\n",
       "      <td>cancellation_policy_strict</td>\n",
       "      <td>1.170523e+01</td>\n",
       "      <td>1.170523e+01</td>\n",
       "    </tr>\n",
       "    <tr>\n",
       "      <th>10</th>\n",
       "      <td>cancellation_policy_moderate</td>\n",
       "      <td>1.075089e+01</td>\n",
       "      <td>1.075089e+01</td>\n",
       "    </tr>\n",
       "    <tr>\n",
       "      <th>15</th>\n",
       "      <td>bed_type_Pull-out Sofa</td>\n",
       "      <td>6.699838e+00</td>\n",
       "      <td>6.699838e+00</td>\n",
       "    </tr>\n",
       "    <tr>\n",
       "      <th>7</th>\n",
       "      <td>beds</td>\n",
       "      <td>1.347306e+00</td>\n",
       "      <td>1.347306e+00</td>\n",
       "    </tr>\n",
       "    <tr>\n",
       "      <th>8</th>\n",
       "      <td>minimum_nights</td>\n",
       "      <td>9.114325e-01</td>\n",
       "      <td>9.114325e-01</td>\n",
       "    </tr>\n",
       "    <tr>\n",
       "      <th>0</th>\n",
       "      <td>host_response_rate</td>\n",
       "      <td>-2.175147e-01</td>\n",
       "      <td>2.175147e-01</td>\n",
       "    </tr>\n",
       "    <tr>\n",
       "      <th>1</th>\n",
       "      <td>host_acceptance_rate</td>\n",
       "      <td>-4.143082e-02</td>\n",
       "      <td>4.143082e-02</td>\n",
       "    </tr>\n",
       "    <tr>\n",
       "      <th>3</th>\n",
       "      <td>host_total_listings_count</td>\n",
       "      <td>1.604698e-02</td>\n",
       "      <td>1.604698e-02</td>\n",
       "    </tr>\n",
       "    <tr>\n",
       "      <th>2</th>\n",
       "      <td>host_listings_count</td>\n",
       "      <td>1.604698e-02</td>\n",
       "      <td>1.604698e-02</td>\n",
       "    </tr>\n",
       "    <tr>\n",
       "      <th>9</th>\n",
       "      <td>maximum_nights</td>\n",
       "      <td>1.013016e-07</td>\n",
       "      <td>1.013016e-07</td>\n",
       "    </tr>\n",
       "  </tbody>\n",
       "</table>\n",
       "</div>"
      ],
      "text/plain": [
       "                                est_int         coefs     abs_coefs\n",
       "12  cancellation_policy_super_strict_30  1.596933e+02  1.596933e+02\n",
       "16                    bed_type_Real Bed  3.667953e+01  3.667953e+01\n",
       "13                       bed_type_Couch  3.343300e+01  3.343300e+01\n",
       "4                          accommodates  2.463599e+01  2.463599e+01\n",
       "6                              bedrooms  1.911241e+01  1.911241e+01\n",
       "5                             bathrooms  1.899179e+01  1.899179e+01\n",
       "17                   instant_bookable_t -1.836411e+01  1.836411e+01\n",
       "14                       bed_type_Futon -1.301845e+01  1.301845e+01\n",
       "11           cancellation_policy_strict  1.170523e+01  1.170523e+01\n",
       "10         cancellation_policy_moderate  1.075089e+01  1.075089e+01\n",
       "15               bed_type_Pull-out Sofa  6.699838e+00  6.699838e+00\n",
       "7                                  beds  1.347306e+00  1.347306e+00\n",
       "8                        minimum_nights  9.114325e-01  9.114325e-01\n",
       "0                    host_response_rate -2.175147e-01  2.175147e-01\n",
       "1                  host_acceptance_rate -4.143082e-02  4.143082e-02\n",
       "3             host_total_listings_count  1.604698e-02  1.604698e-02\n",
       "2                   host_listings_count  1.604698e-02  1.604698e-02\n",
       "9                        maximum_nights  1.013016e-07  1.013016e-07"
      ]
     },
     "execution_count": 166,
     "metadata": {},
     "output_type": "execute_result"
    }
   ],
   "source": [
    "def coef_weights(coefficients, X_train):\n",
    "    \"\"\"Train linear model\n",
    "    Keyword arguments:\n",
    "    coefficients: estimated coefficients for the linear regression problem\n",
    "    X_train: training data\n",
    "    \"\"\"\n",
    "    \n",
    "    coefs_df = pd.DataFrame()\n",
    "    coefs_df['est_int'] = X_train.columns\n",
    "    coefs_df['coefs'] = lm_model.coef_\n",
    "    coefs_df['abs_coefs'] = np.abs(lm_model.coef_)\n",
    "    coefs_df = coefs_df.sort_values('abs_coefs', ascending=False)\n",
    "    return coefs_df\n",
    "coef_df = coef_weights(lm_model.coef_, X_train)\n",
    "coef_df.head(20)"
   ]
  },
  {
   "cell_type": "code",
   "execution_count": 216,
   "metadata": {},
   "outputs": [
    {
     "data": {
      "image/png": "[encoded data removed]",
      "text/plain": [
       "<matplotlib.figure.Figure at 0x2c7fb817ac8>"
      ]
     },
     "metadata": {},
     "output_type": "display_data"
    }
   ],
   "source": [
    "plt.figure(figsize=(15,8))\n",
    "# select top 13 important features\n",
    "name_list = coef_df['est_int'].values[:13]\n",
    "num_list = coef_df['coefs'].values[:13]\n",
    "plt.bar(range(len(num_list)), num_list,color='rgb',tick_label=name_list)\n",
    "plt.title('price key factor', fontsize=20)\n",
    "plt.xlabel('key factor', fontsize=20)\n",
    "plt.ylabel('weight', fontsize=20)\n",
    "plt.xticks(fontsize=18)\n",
    "plt.yticks(fontsize=18)\n",
    "plt.xticks(rotation=270)\n",
    "plt.show()"
   ]
  }
 ],
 "metadata": {
  "kernelspec": {
   "display_name": "Python 3",
   "language": "python",
   "name": "python3"
  },
  "language_info": {
   "codemirror_mode": {
    "name": "ipython",
    "version": 3
   },
   "file_extension": ".py",
   "mimetype": "text/x-python",
   "name": "python",
   "nbconvert_exporter": "python",
   "pygments_lexer": "ipython3",
   "version": "3.6.4"
  }
 },
 "nbformat": 4,
 "nbformat_minor": 2
}
